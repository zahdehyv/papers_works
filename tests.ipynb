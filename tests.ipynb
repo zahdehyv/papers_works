{
 "cells": [
  {
   "cell_type": "code",
   "execution_count": 1,
   "metadata": {},
   "outputs": [
    {
     "name": "stdout",
     "output_type": "stream",
     "text": [
      "<?xml version=\"1.0\" encoding=\"UTF-8\"?>\n",
      "<feed xmlns=\"http://www.w3.org/2005/Atom\">\n",
      "  <link href=\"http://arxiv.org/api/query?search_query%3Dall%3Aelectron%26id_list%3D%26start%3D0%26max_results%3D1\" rel=\"self\" type=\"application/atom+xml\"/>\n",
      "  <title type=\"html\">ArXiv Query: search_query=all:electron&amp;id_list=&amp;start=0&amp;max_results=1</title>\n",
      "  <id>http://arxiv.org/api/cHxbiOdZaP56ODnBPIenZhzg5f8</id>\n",
      "  <updated>2025-02-02T00:00:00-05:00</updated>\n",
      "  <opensearch:totalResults xmlns:opensearch=\"http://a9.com/-/spec/opensearch/1.1/\">219974</opensearch:totalResults>\n",
      "  <opensearch:startIndex xmlns:opensearch=\"http://a9.com/-/spec/opensearch/1.1/\">0</opensearch:startIndex>\n",
      "  <opensearch:itemsPerPage xmlns:opensearch=\"http://a9.com/-/spec/opensearch/1.1/\">1</opensearch:itemsPerPage>\n",
      "  <entry>\n",
      "    <id>http://arxiv.org/abs/cond-mat/0102536v1</id>\n",
      "    <updated>2001-02-28T20:12:09Z</updated>\n",
      "    <published>2001-02-28T20:12:09Z</published>\n",
      "    <title>Impact of Electron-Electron Cusp on Configuration Interaction Energies</title>\n",
      "    <summary>  The effect of the electron-electron cusp on the convergence of configuration\n",
      "interaction (CI) wave functions is examined. By analogy with the\n",
      "pseudopotential approach for electron-ion interactions, an effective\n",
      "electron-electron interaction is developed which closely reproduces the\n",
      "scattering of the Coulomb interaction but is smooth and finite at zero\n",
      "electron-electron separation. The exact many-electron wave function for this\n",
      "smooth effective interaction has no cusp at zero electron-electron separation.\n",
      "We perform CI and quantum Monte Carlo calculations for He and Be atoms, both\n",
      "with the Coulomb electron-electron interaction and with the smooth effective\n",
      "electron-electron interaction. We find that convergence of the CI expansion of\n",
      "the wave function for the smooth electron-electron interaction is not\n",
      "significantly improved compared with that for the divergent Coulomb interaction\n",
      "for energy differences on the order of 1 mHartree. This shows that, contrary to\n",
      "popular belief, description of the electron-electron cusp is not a limiting\n",
      "factor, to within chemical accuracy, for CI calculations.\n",
      "</summary>\n",
      "    <author>\n",
      "      <name>David Prendergast</name>\n",
      "      <arxiv:affiliation xmlns:arxiv=\"http://arxiv.org/schemas/atom\">Department of Physics</arxiv:affiliation>\n",
      "    </author>\n",
      "    <author>\n",
      "      <name>M. Nolan</name>\n",
      "      <arxiv:affiliation xmlns:arxiv=\"http://arxiv.org/schemas/atom\">NMRC, University College, Cork, Ireland</arxiv:affiliation>\n",
      "    </author>\n",
      "    <author>\n",
      "      <name>Claudia Filippi</name>\n",
      "      <arxiv:affiliation xmlns:arxiv=\"http://arxiv.org/schemas/atom\">Department of Physics</arxiv:affiliation>\n",
      "    </author>\n",
      "    <author>\n",
      "      <name>Stephen Fahy</name>\n",
      "      <arxiv:affiliation xmlns:arxiv=\"http://arxiv.org/schemas/atom\">Department of Physics</arxiv:affiliation>\n",
      "    </author>\n",
      "    <author>\n",
      "      <name>J. C. Greer</name>\n",
      "      <arxiv:affiliation xmlns:arxiv=\"http://arxiv.org/schemas/atom\">NMRC, University College, Cork, Ireland</arxiv:affiliation>\n",
      "    </author>\n",
      "    <arxiv:doi xmlns:arxiv=\"http://arxiv.org/schemas/atom\">10.1063/1.1383585</arxiv:doi>\n",
      "    <link title=\"doi\" href=\"http://dx.doi.org/10.1063/1.1383585\" rel=\"related\"/>\n",
      "    <arxiv:comment xmlns:arxiv=\"http://arxiv.org/schemas/atom\">11 pages, 6 figures, 3 tables, LaTeX209, submitted to The Journal of\n",
      "  Chemical Physics</arxiv:comment>\n",
      "    <arxiv:journal_ref xmlns:arxiv=\"http://arxiv.org/schemas/atom\">J. Chem. Phys. 115, 1626 (2001)</arxiv:journal_ref>\n",
      "    <link href=\"http://arxiv.org/abs/cond-mat/0102536v1\" rel=\"alternate\" type=\"text/html\"/>\n",
      "    <link title=\"pdf\" href=\"http://arxiv.org/pdf/cond-mat/0102536v1\" rel=\"related\" type=\"application/pdf\"/>\n",
      "    <arxiv:primary_category xmlns:arxiv=\"http://arxiv.org/schemas/atom\" term=\"cond-mat.str-el\" scheme=\"http://arxiv.org/schemas/atom\"/>\n",
      "    <category term=\"cond-mat.str-el\" scheme=\"http://arxiv.org/schemas/atom\"/>\n",
      "  </entry>\n",
      "</feed>\n",
      "\n"
     ]
    }
   ],
   "source": [
    "import urllib, urllib.request\n",
    "url = 'http://export.arxiv.org/api/query?search_query=all:electron&start=0&max_results=1'\n",
    "data = urllib.request.urlopen(url)\n",
    "print(data.read().decode('utf-8'))\n",
    "\n"
   ]
  },
  {
   "cell_type": "code",
   "execution_count": null,
   "metadata": {},
   "outputs": [
    {
     "name": "stdout",
     "output_type": "stream",
     "text": [
      "Can LLMs Compute with Reasons? :\n",
      " Large language models (LLMs) often struggle with complex mathematical tasks,\n",
      "prone to \"hallucinating\" incorrect answers due to their reliance on statistical\n",
      "patterns. This limitation is further amplified in average Small LangSLMs with\n",
      "limited context and training data. To address this challenge, we propose an\n",
      "\"Inductive Learning\" approach utilizing a distributed network of SLMs. This\n",
      "network leverages error-based learning and hint incorporation to refine the\n",
      "reasoning capabilities of SLMs. Our goal is to provide a framework that\n",
      "empowers SLMs to approach the level of logic-based applications achieved by\n",
      "high-parameter models, potentially benefiting any language model. Ultimately,\n",
      "this novel concept paves the way for bridging the logical gap between humans\n",
      "and LLMs across various fields. \n",
      "\n",
      "Token-Budget-Aware LLM Reasoning :\n",
      " Reasoning is critical for large language models (LLMs) to excel in a wide\n",
      "range of tasks. While methods like Chain-of-Thought (CoT) reasoning enhance LLM\n",
      "performance by decomposing problems into intermediate steps, they also incur\n",
      "significant overhead in token usage, leading to increased costs. We find that\n",
      "the reasoning process of current LLMs is unnecessarily lengthy and it can be\n",
      "compressed by including a reasonable token budget in the prompt, but the choice\n",
      "of token budget plays a crucial role in the actual compression effectiveness.\n",
      "We then propose a token-budget-aware LLM reasoning framework, which dynamically\n",
      "estimates token budgets for different problems based on reasoning complexity\n",
      "and uses the estimated token budgets to guide the reasoning process.\n",
      "Experiments show that our method effectively reduces token costs in CoT\n",
      "reasoning with only a slight performance reduction, offering a practical\n",
      "solution to balance efficiency and accuracy in LLM reasoning. Code:\n",
      "https://github.com/GeniusHTX/TALE. \n",
      "\n",
      "Make LLMs better zero-shot reasoners: Structure-orientated autonomous reasoning :\n",
      " Zero-shot reasoning methods with Large Language Models (LLMs) offer\n",
      "significant advantages including great generalization to novel tasks and\n",
      "reduced dependency on human-crafted examples. However, the current zero-shot\n",
      "methods still have limitations in complex tasks, e.g., answering questions that\n",
      "require multi-step reasoning. In this paper, we address this limitation by\n",
      "introducing a novel structure-oriented analysis method to help LLMs better\n",
      "understand the question and guide the problem-solving process of LLMs. We first\n",
      "demonstrate how the existing reasoning strategies, Chain-of-Thought and ReAct,\n",
      "can benefit from our structure-oriented analysis. In addition to empirical\n",
      "investigations, we leverage the probabilistic graphical model to theoretically\n",
      "explain why our structure-oriented analysis can improve the LLM reasoning\n",
      "process. To further improve the reliability in complex question-answering\n",
      "tasks, we propose a multi-agent reasoning system, Structure-oriented Autonomous\n",
      "Reasoning Agents (SARA), that can better enforce the reasoning process\n",
      "following our structure-oriented analysis by refinement techniques and is\n",
      "equipped with external knowledge retrieval capability to reduce factual errors.\n",
      "Extensive experiments verify the effectiveness of the proposed reasoning\n",
      "system. Surprisingly, in some cases, the system even surpasses few-shot\n",
      "methods. Finally, the system not only improves reasoning accuracy in complex\n",
      "tasks but also demonstrates robustness against potential attacks that corrupt\n",
      "the reasoning process. \n",
      "\n"
     ]
    }
   ],
   "source": [
    "import arxiv\n",
    "\n",
    "# Construct the default API client.\n",
    "client = arxiv.Client()\n",
    "\n",
    "# Search for the 10 most recent articles matching the keyword \"quantum.\"\n",
    "search = arxiv.Search(\n",
    "  query = \"ti:reasoning AND ti:LLM\",\n",
    "  max_results = 3,\n",
    "  sort_by = arxiv.SortCriterion.Relevance,\n",
    "  sort_order=arxiv.SortOrder.Descending\n",
    ")\n",
    "\n",
    "results = client.results(search)\n",
    "\n",
    "# `results` is a generator; you can iterate over its elements one by one...\n",
    "for r in results:\n",
    "  print(r.title,\":\\n\",r.summary,\"\\n\")\n",
    "  r.download_pdf(dirpath=\"./newbies\", filename=r.title+\".pdf\")"
   ]
  },
  {
   "cell_type": "code",
   "execution_count": null,
   "metadata": {},
   "outputs": [],
   "source": [
    "# For advanced query syntax documentation, see the arXiv API User Manual:\n",
    "# https://arxiv.org/help/api/user-manual#query_details\n",
    "search = arxiv.Search(query = \"au:del_maestro AND ti:checkerboard\")\n",
    "first_result = next(client.results(search))\n",
    "print(first_result)\n",
    "\n",
    "# Search for the paper with ID \"1605.08386v1\"\n",
    "search_by_id = arxiv.Search(id_list=[\"1605.08386v1\"])\n",
    "# Reuse client to fetch the paper, then print its title.\n",
    "first_result = next(client.results(search))\n",
    "print(first_result.title)"
   ]
  },
  {
   "cell_type": "code",
   "execution_count": 1,
   "metadata": {},
   "outputs": [
    {
     "name": "stdout",
     "output_type": "stream",
     "text": [
      "\n",
      "Some text before [REPLACED PAPER CONTENT] and some text after.\n",
      "Another [REPLACED PAPER CONTENT] and more.\n",
      "\n"
     ]
    }
   ],
   "source": [
    "import re\n",
    "\n",
    "text = \"\"\"\n",
    "Some text before <paper>This is the paper content.</paper> and some text after.\n",
    "Another <paper>Another paper's text.</paper> and more.\n",
    "\"\"\"\n",
    "\n",
    "pattern_replace = r\"<paper>.*?</paper>\"\n",
    "replacement_text = \"[REPLACED PAPER CONTENT]\"\n",
    "replaced_text = re.sub(pattern_replace, replacement_text, text)\n",
    "\n",
    "print(replaced_text)\n",
    "# Output:\n",
    "# Some text before [REPLACED PAPER CONTENT] and some text after.\n",
    "# Another [REPLACED PAPER CONTENT] and more."
   ]
  },
  {
   "cell_type": "code",
   "execution_count": 2,
   "metadata": {},
   "outputs": [
    {
     "name": "stdout",
     "output_type": "stream",
     "text": [
      "\n",
      "Some text before THIS IS THE PAPER CONTENT. and some text after.\n",
      "Another ANOTHER PAPER'S TEXT. and more.\n",
      "\n"
     ]
    }
   ],
   "source": [
    "import re\n",
    "\n",
    "def replace_paper_content(match):\n",
    "    \"\"\"\n",
    "    Function to transform the content inside <paper> tags and use it as replacement.\n",
    "    For this example, we'll just uppercase the content.\n",
    "    \"\"\"\n",
    "    paper_content = match.group(1) # Access the captured group (text inside <paper>)\n",
    "    transformed_content = paper_content.upper() # Example transformation: uppercase\n",
    "    return transformed_content\n",
    "\n",
    "text = \"\"\"\n",
    "Some text before <paper>This is the paper content.</paper> and some text after.\n",
    "Another <paper>Another paper's text.</paper> and more.\n",
    "\"\"\"\n",
    "\n",
    "pattern_replace_transform = r\"<paper>(.*?)</paper>\"\n",
    "replaced_text_transformed = re.sub(pattern_replace_transform, replace_paper_content, text)\n",
    "\n",
    "print(replaced_text_transformed)\n",
    "# Output:\n",
    "# Some text before THIS IS THE PAPER CONTENT. and some text after.\n",
    "# Another ANOTHER PAPER'S TEXT. and more."
   ]
  },
  {
   "cell_type": "code",
   "execution_count": 9,
   "metadata": {},
   "outputs": [],
   "source": [
    "from math import sqrt\n",
    "q = (1+sqrt(5))/2\n",
    "p = (1-sqrt(5))/2"
   ]
  },
  {
   "cell_type": "code",
   "execution_count": 12,
   "metadata": {},
   "outputs": [
    {
     "data": {
      "text/plain": [
       "-0.6180339887498949"
      ]
     },
     "execution_count": 12,
     "metadata": {},
     "output_type": "execute_result"
    }
   ],
   "source": [
    "p"
   ]
  },
  {
   "cell_type": "code",
   "execution_count": 4,
   "metadata": {},
   "outputs": [],
   "source": [
    "a = q/(1+q)"
   ]
  },
  {
   "cell_type": "code",
   "execution_count": 5,
   "metadata": {},
   "outputs": [],
   "source": [
    "b=1-a"
   ]
  },
  {
   "cell_type": "code",
   "execution_count": 6,
   "metadata": {},
   "outputs": [
    {
     "data": {
      "text/plain": [
       "1.6180339887498951"
      ]
     },
     "execution_count": 6,
     "metadata": {},
     "output_type": "execute_result"
    }
   ],
   "source": [
    "a/b"
   ]
  },
  {
   "cell_type": "code",
   "execution_count": 19,
   "metadata": {},
   "outputs": [
    {
     "data": {
      "text/plain": [
       "1.6180339887498947"
      ]
     },
     "execution_count": 19,
     "metadata": {},
     "output_type": "execute_result"
    }
   ],
   "source": [
    "(a+b)/a"
   ]
  },
  {
   "cell_type": "code",
   "execution_count": 18,
   "metadata": {},
   "outputs": [
    {
     "data": {
      "text/plain": [
       "-1.0"
      ]
     },
     "execution_count": 18,
     "metadata": {},
     "output_type": "execute_result"
    }
   ],
   "source": [
    "a/p"
   ]
  },
  {
   "cell_type": "code",
   "execution_count": 8,
   "metadata": {},
   "outputs": [
    {
     "data": {
      "text/plain": [
       "0.3819660112501051"
      ]
     },
     "execution_count": 8,
     "metadata": {},
     "output_type": "execute_result"
    }
   ],
   "source": [
    "b"
   ]
  },
  {
   "cell_type": "code",
   "execution_count": 10,
   "metadata": {},
   "outputs": [],
   "source": [
    "from googlesearch import search\n",
    "res = search(\"strip packing\", advanced=True, num_results=100)\n",
    "res = list(res)"
   ]
  },
  {
   "cell_type": "code",
   "execution_count": 14,
   "metadata": {},
   "outputs": [
    {
     "name": "stdout",
     "output_type": "stream",
     "text": [
      "0. Strip packing problem - Wikipedia\n",
      " The strip packing problem is a 2-dimensional geometric minimization problem. Given a set of axis-aligned rectangles and a strip of bounded width and ... \n",
      "https://en.wikipedia.org/wiki/Strip_packing_problem\n",
      "\n",
      "1. Strip Packaging vs Blister Packaging: What's the Difference?\n",
      " Aug 18, 2023  ·  The term \"strip packaging\" describes a technique of drug packaging in which individual doses are contained within a continuous strip of flexible ... \n",
      "https://www.ipharmachine.com/blister-packaging-vs-strip-packaging?srsltid=AfmBOooCzJb9ToBUWNE3TysJp180GCXSJkndA9KCzOi_PIOolEnVSVdm\n",
      "\n",
      "2. Difference between Blister Packaging and Strip Packaging\n",
      " Dec 29, 2022  ·  Strip packaging has no such type. Blister packs use as a primary pack for a range of pharmaceutical products such as tablet, pill, capsule, ... \n",
      "https://www.packagingconnections.com/blog-entry/difference-between-blister-packaging-and-strip-packaging.htm\n",
      "\n",
      "3. Sterile Packing Strips - Amazon.com\n",
      " Wound Sterile Strips in Unbreakable Poly Bottles. Sterile Packing for Open or Infected Wounds. 1 Count (Pack of 1) \n",
      "https://www.amazon.com/sterile-packing-strips/s?k=sterile+packing+strips\n",
      "\n",
      "4. Strip Packing Machines | Marchesini Group\n",
      " Automatic machines for packaging coated tablets and pills in strip packs sealed on all 4 sides. With horizontal flow, they are specifically designed for ... \n",
      "https://www.marchesini.com/en/machines-lines/primary-packaging/strip-form-fill-seal\n",
      "\n",
      "5. Strip Packing & Tablet Packaging - Wasdell Group\n",
      " Our strip pack services include: Formed and filled with range of solid dosage products or liquids; Convenient daily packs with up to six different solid ... \n",
      "https://www.wasdell.co.uk/strip-packs/\n",
      "\n",
      "6. strip packaging | PPT - SlideShare\n",
      " Feb 24, 2007  ·  Strip packaging is an alternative form of unit dose packaging that encloses individual articles between two webs of material sealed together ... \n",
      "https://www.slideshare.net/slideshow/strip-packaging/26176\n",
      "\n",
      "7. Definition of strip packing - Mindat\n",
      " Definition of strip packing. An arrangement of alternate packs and wastes built in a direction parallel to the gate roads in longwall conveyor mining. A common ... \n",
      "https://www.mindat.org/glossary/strip_packing\n",
      "\n",
      "8. Strip Packing Machine - Gansons\n",
      " The Gansons Strip Packing Machine packs a wide range of products into easily dispensable strips with speed, efficiency and reliability. \n",
      "https://gansons.com/strip-packing-machine\n",
      "\n",
      "9. Packaging Strip - Packing Strip Latest Price, Manufacturers ...\n",
      " Plastic Packaging Strip, ₹ 100/Kg, Material: Polypropylene, Width: 15 mm, Color: White, Packaging Type: Roll \n",
      "https://dir.indiamart.com/impcat/packaging-strip.html\n",
      "\n",
      "10. McKesson Packing Strip, Sterile, Plain, 100% Cotton, 1/4 in x 5 yds ...\n",
      " Rating   4.7  (166)    ·  $6.72    ·  In stock \n",
      "https://www.amazon.com/McKesson-Performance-Packing-X5Yards-Sterile/dp/B002C5YG60\n",
      "\n",
      "11. How to Operate Strip Packing Machine\n",
      " Sep 29, 2022  ·  Strip packing machine is normally used to pack drug tablets, effervescent tablets, candies and other similar solid products of ... \n",
      "https://www.grand-packing.com/how-to-operate-strip-packing-machine.html\n",
      "\n",
      "12. Difference between Blister packaging and Strip packaging\n",
      " Sep 21, 2024  ·  Strip packaging is an alternative form of unit dose packaging in which a pharmaceutical product is enclosed between two webs of heat-sealable ... \n",
      "https://pharmaeducation.net/blister-packaging-and-strip-packaging/\n",
      "\n",
      "13. Strip Packing Machine - Packing Line\n",
      " Strip Packing machines are designed to handle a wide range of products with utmost precision and speed upto 2400 units per minute. The products from the hopper ... \n",
      "https://www.chitramechtech.com/product/strip-packing/\n",
      "\n",
      "14. Stripack-350 Advanced Strip Packing Machine - SaintyCo\n",
      " A strip packing machine is a speedy machine that packs capsules, coated tablets, tablets, soft gelatin capsules, etc. \n",
      "https://www.saintyco.com/stripack350-advanced-strip-packing-machine/\n",
      "\n",
      "15. Wound Packing Strips - Plain, Iodoform & Alginate - Medical Monks\n",
      " Wound packing strips are continuous, one-piece strips of material used to fill empty space in a deep cavity or tunneling wounds. \n",
      "https://medicalmonks.com/product-category/wound-care/wound-care-traditional-wound-care/wound-care-traditional-wound-care-packing-strips/?srsltid=AfmBOoqekyOGfzLDeYYVA-EWSJ8YxE3_kAMaTrsqgddQlGAD_2tVAeDo\n",
      "\n",
      "16. Strip Packing Machine - Ruian Yidu Machinery Co., Ltd. - page 1.\n",
      " China Strip Packing Machine catalog of Aluminum Foil Soft Packaging Machine Aluminum Foil Tablet Capsule Candy Effervecent Tablet Packaging Strip Packing ... \n",
      "https://yidumach.en.made-in-china.com/product-group/ebPtxrscYIGo/Strip-Packing-Machine-1.html\n",
      "\n",
      "17. Strip Packing Machines - Jornen Machinery\n",
      " NSL260 Strip Packing Machine · Strip Packing Machine DSL160. PRODUCTS. Blister Machine for pharmaceuticals · Cartoning Machine · Blister Feeders & Accessories ... \n",
      "https://www.jornen.com/product/strip-packing-machines/\n",
      "\n",
      "18. Strip Packing vs. Bin Packing - SpringerLink\n",
      " In this paper we establish a general algorithmic framework between bin packing and strip packing, with which we achieve the same asymptotic bounds by ... \n",
      "https://link.springer.com/chapter/10.1007/978-3-540-72870-2_34\n",
      "\n",
      "19. [PDF] Strip Packing Machine\n",
      " Strip packing machine is a double web laminated foil packing machine. Alu-Poly and Glassine-Poly foils [0.3 or 0.4 mm thick] are commonly used for packing of ... \n",
      "https://dumramachines.com/uploads/Strip%20packing%20machine.pdf\n",
      "\n",
      "20. A Pharmaceutical Strip Packing Line For Tablets. - YouTube\n",
      " Jun 6, 2023  ·  A Pharmaceutical Strip Packing Line: Enhance Patient Safety with Strip Packing Machines Stay Current with Tablet Packaging Innovations ... \n",
      "https://www.youtube.com/watch?v=Ldr_U-nQCuI\n",
      "\n",
      "21. Strip Packing Machine - SaintyTec\n",
      " Feb 18, 2024  ·  A strip packing machine is an industry-grade machine for sealing items. It is primarily used in industries where products need to be packed and ... \n",
      "https://www.saintytec.com/strip-packing-machine/\n",
      "\n",
      "22. process of strip packing | PPT - SlideShare\n",
      " Sep 14, 2019  ·  The document discusses different packing machines used in a packing area, including a strip packing machine. It describes the strip packing ... \n",
      "https://www.slideshare.net/slideshow/process-of-strip-packing/172022430\n",
      "\n",
      "23. Blister Packaging VS Strip Packaging - AIPAK Pharma\n",
      " Packaging improves the appearance of solid dosage form; makes them more appealing. Usually tablets and capsules are packed into blister and strip packaging. \n",
      "https://www.icapsulepack.com/blister-packaging-vs-strip-packaging/\n",
      "\n",
      "24. Strip Packing Machine in Ukraine - Packing Line\n",
      " Strip packing the versatile design of the machine makes it eminently adaptable for packaging a variety of products like pharmaceuticals Uncoated and coated ... \n",
      "https://www.chitramechtech.com/ua/product/strip-packing/\n",
      "\n",
      "25. Packing Strips: Effective Wound Management Solutions\n",
      " Rating   5.0  (265) \n",
      "https://www.surgo.com/packing-strips--4?srsltid=AfmBOopN6ueRiLSrBjEm5W4Fs_L2fB4Nneh6lYwX8IKziFNf_1ArhXJP\n",
      "\n",
      "26. Strip Packing Machines - Capsule/Tablet Strip Packaging Machine\n",
      " Strip packing machine is extensively used to pack tablets, capsules, caplets, coated tablets, soft gelatin capsules. The same is also used to pack supari, ... \n",
      "https://www.bhagwatipharma.com/strip-packing-machines/\n",
      "\n",
      "27. Plastic Packing Strip(19449+) - Alibaba\n",
      " Rating   5.0  (24) \n",
      "https://www.alibaba.com/showroom/plastic-packing-strip.html\n",
      "\n",
      "28. A deep reinforcement learning algorithm for the rectangular strip ...\n",
      " Mar 16, 2023  ·  A novel algorithm based on deep reinforcement learning is proposed in this work to solve the rectangular strip packing problem. \n",
      "https://journals.plos.org/plosone/article?id=10.1371/journal.pone.0282598\n",
      "\n",
      "29. Traditional style 'strip packing' of cartons in textile industry - YouTube\n",
      " Dec 2, 2019  ·  India is a huge hub for the manufacturing of textiles and exporting it all around the globe. This consignment is going from India to Paris ... \n",
      "https://www.youtube.com/watch?v=13kClJWRP8Y\n",
      "\n",
      "30. Strip Packing Machine-Pharmoon\n",
      " It is suitable for automatic aluminum-aluminum foil heat sealing packing for tablets, candy and pills in medicine, healthcare,chemical, foodstuff etc industry. \n",
      "https://www.pharmoon.com/product/category/strip-packing-machine\n",
      "\n",
      "31. Strip Packing Machine - IndiaMART\n",
      " Strip Packing Machine · 3 Phase Pharmaceutical Strip Packing Machine, 440 V,Ac, Model Name/Number: ASP-4 · 0.5 HP Automatic Strip Packing Machine, Capacity: Up ... \n",
      "https://dir.indiamart.com/impcat/strip-packing-machine.html\n",
      "\n",
      "32. Strip Packing Machine DSL160 - Jornen Machinery\n",
      " The DSL160 Strip Packing Machine is designed to pack capsules, tablets, or similar products. Features: • Feeding, sealing, slitting, and cutting are done ... \n",
      "https://www.jornen.com/products/strip-packing-machine-dsl160/\n",
      "\n",
      "33. Automatic Strip Packing Machine\n",
      " This machine is suitable for packing all kinds of tablets, capsules with double-aluminum strip in pharmaceutical and health product industries. \n",
      "https://www.grand-packing.com/Automatic-Strip-Packing-Machine-pl45669.html\n",
      "\n",
      "34. Strip Packing Machine Technology (23)\n",
      " The Strip Packing machine is widely used equipment in pharmaceutical industries mostly to pack tablet capsules & pills in aluminum foil and make them. \n",
      "https://flairpharma.com/strip-packing-machine/\n",
      "\n",
      "35. strip packing\n",
      " Definition: Pack a set of rectangles into a strip of width 1 to minimize the height used. Rectangles may not overlap or be rotated. Without loss of generality, ... \n",
      "https://xlinux.nist.gov/dads/HTML/strippacking.html\n",
      "\n",
      "36. Pak-Its Plain Packing Strip with Strip Delivery System - Medical Monks\n",
      " $3.09 \n",
      "https://medicalmonks.com/product/pak-its-plain-packing-strip-with-strip-delivery-system/?srsltid=AfmBOoorgMC1MLtGrgHZhVqT22ttGU7UDldxe06-AEjbjlnYY1HGZAEN\n",
      "\n",
      "37. Medicine Double Aluminum Strip Packing Machine For Tablet Pill\n",
      " Medicine Double Aluminum Strip Packing Machine For Tablet Pill · Blister Packing Machine · Automatic Carton Packing Machine · Automatic Sachet Packing Machine. \n",
      "https://www.sem-machinery.com/automatic-sachet-packing-machine/338-338.html\n",
      "\n",
      "38. Strip packing machine. | Download Scientific Diagram - ResearchGate\n",
      " When it comes to labeling, it provides identification for the product, such as dosage, strength, and name, and in packing, it secures the product from physical ... \n",
      "https://www.researchgate.net/figure/Strip-packing-machine_fig1_322224057\n",
      "\n",
      "39. Strip Pack machine - MEDPAC COMPANY LIMITED\n",
      " Strip packaging machines are a pharmaceutical packaging machine that utilize aluminum foil and film laminates as the packaging material. \n",
      "https://medpac.co.th/product/strip-pack-machine/\n",
      "\n",
      "40. Automatic Pharmaceutical Double Soft Aluminum Foil Strip Packing ...\n",
      " Rating   5.0      ·  MIC_BUYER \n",
      "https://cngrandmachinery.en.made-in-china.com/product/rZLGXtdvLwWR/China-Automatic-Pharmaceutical-Double-Soft-Aluminum-Foil-Strip-Packing-Machine.html\n",
      "\n",
      "41. [PDF] Strip Packing Machine PDF - JAPSON\n",
      " The strips pack meets the moisture-proof and light-proof packaging requirements by employing Alu/Alu or plastic/plastic film material. Strip packing machines ... \n",
      "https://www.japson.com/ProductLeaflet/file/getpdf/name/Strip_Packing_Machine.pdf?fileId=3561\n",
      "\n",
      "42. Tablet Strip Packing - Capsule Filling Machine\n",
      " The strip pack is good for the packing requirement of moisture-proof, light-proof by using Alu/Alu; or plastic/plastic film material. Here we mainly introduce ... \n",
      "https://www.jspharma.net/tablet-strip-packing-machine/\n",
      "\n",
      "43. Strip Packing\n",
      " Strip Packing m/c. Strip Packing m/c. Capacity : Tab. Per Min. : 600-800. The unit consists of drive 0.5HP/1440 RPM/3PH/415V/50CS AC Motor coupled to worm ... \n",
      "https://www.pharmaquip.com/Scripts/Strip_Packing.html\n",
      "\n",
      "44. Strip Carton Packing Machine(3581+) - Alibaba.com\n",
      " Rating   5.0  (13) \n",
      "https://www.alibaba.com/showroom/strip-carton-packing-machine.html\n",
      "\n",
      "45. Automatic Strip Packing Machine - YouTube\n",
      " Oct 17, 2020  ·  Lodha Strip packing the versatile design of the machine makes it eminently adaptable for packaging a variety of products like ... \n",
      "https://www.youtube.com/watch?v=DAqiEXtXd64\n",
      "\n",
      "46. Engarc (19mm-2kg) Packing Strip High Strength PP Box Strap White ...\n",
      " Buy Engarc (19mm-2kg) Packing Strip High Strength PP Box Strap White Colour Manual Crimper for Rs.999 online. Engarc (19mm-2kg) Packing Strip High Strength ... \n",
      "https://www.flipkart.com/engarc-19mm-2kg-packing-strip-high-strength-pp-box-strap-white-colour-manual-crimper/p/itme3e651b4affdc\n",
      "\n",
      "47. Strip Packing Machine - Jayshree Tablet Science\n",
      " Automatic Strip Packing Machine, strip packing machine price, strip packing machine, strip packing machine manual, strip packing machine for tablets. \n",
      "https://jpeq.com/strip-packing-machine/\n",
      "\n",
      "48. What is Metal Packing Strip Used for? A Comprehensive Guide\n",
      " Apr 21, 2023  ·  Metal packing strips are widely used in the industrial sector, primarily for securing and transporting heavy machinery and equipment. These ... \n",
      "https://www.fanghuasteel.com/news/what-is-metal-packing-strip-used-for-a-comprehensive-guide/\n",
      "\n",
      "49. Strip Packing Machine Guide: Sourcing, Types, Applications ...\n",
      " Apr 19, 2023  ·  Strip packing machines are highly efficient and automated machines that are used to package products like pharmaceuticals, food, and confectionery. \n",
      "https://www.sourcifychina.com/strip-packing-machine/\n",
      "\n",
      "50. Strip Packing Machine :the Complete Buying Guide Available– AIPAK\n",
      " A strip packing is an innovative and new method of packing pharmaceutical solid dosage form in a unit dose pack. In strip packing drug is encased between two ... \n",
      "https://www.icapsulepack.com/strip-packing-machine/\n",
      "\n",
      "51. What is the strip packager? Difference - Yuyama USA\n",
      " Nov 28, 2023  ·  A strip packager is a package used to pack and dispense the medications the user prescribes one at a time. \n",
      "https://www.yuyamarx.com/column/pharmacy/strippackager-blisterpack/\n",
      "\n",
      "52. Strip Packaging vs. Blister Packaging | Ascend\n",
      " The individual compartments or cavities formed by the blister pack act as a barrier shielding the medication from these external elements. This helps ... \n",
      "https://ascendpkg.com/comparing-blister-packaging-strip-packaging/\n",
      "\n",
      "53. Strip Packaging Solution - Pack Engineering\n",
      " The strip packaging solutions offered by Romaco Siebler are designed to meet diverse pharmaceutical packaging needs. They provide air, light, and moisture-tight ... \n",
      "https://pack-engineering.com/maskiner/strip-packaging-solution/\n",
      "\n",
      "54. Vertical strip packaging machine - Campak Inc\n",
      " High speed strip packaging vertical machine, four-side sealing/pouching machine, designed for packing tablets, capsules and effervescent tablets. \n",
      "https://www.campak.com/5000-360-vertical-strip-packaging-machine/\n",
      "\n",
      "55. Strip Packaging - Pharmaceutical Equipment Division\n",
      " Sachet Packing · Powder Sachet Vertical Packaging Machine · Particle Sachet ... Strip Packaging 》. Continuous High-speed Strip Bag Packaging System. \n",
      "https://www.kpack.com.cn/en/index.php?c=category&id=63\n",
      "\n",
      "56. Different Types of Tablet Packing Machines - Pharmaguideline\n",
      " Apr 17, 2022  ·  packing machine and foil strip packing machine. 2. Blister Packaging Machines. Features. It uses blister materials such as polyvinyl chloride, ... \n",
      "https://www.pharmaguideline.com/2015/01/different-types-of-tablet-packing-machines.html\n",
      "\n",
      "57. Packing Gauze Strips - Walmart\n",
      " 100% Cotton Woven Medical Packing Strip, Soft & Absorbent, 1/4 x 5 yd., 1 Case of 12 Packing Strip in Jars \n",
      "https://www.walmart.com/c/kp/packing-gauze-strips\n",
      "\n",
      "58. Stripfoil Pharma\n",
      " ... packing centres worldwide. The Stripfoil process is unique as specially formulated Stripfoil tape strips the lidding foil from the underside of the blister. \n",
      "https://stripfoil.com/products/stripfoil-pharma/\n",
      "\n",
      "59. STRIP PACKAGING\n",
      " Purchase a machine and strip pack in the phar macy. 2. Purchase as usual but job out the strip pack aging locally. 3. Purchase products already strip packed by ... \n",
      "https://academic.oup.com/ajhp/article-pdf/19/4/173/28286308/ajhp0173.pdf\n",
      "\n",
      "60. Strip/Pouch Packaging Supplies\n",
      " Click here to browse PAS' selection of consumables used in strip and pouch packagers like Parata, TCGRx, Talyst, JVM, and more! \n",
      "https://www.pharmacyautomationsupplies.com/categories/products/strip-pouch-packaging-supplies.html\n",
      "\n",
      "61. Strip Packing Machine - PHARMEC\n",
      " Strip packing machine is designed with success to meet the needs in the market by our own research fellows. It has PLC Human interface, frequency converter, ... \n",
      "https://pharmectech.com/products/strip-packing-machine\n",
      "\n",
      "62. Strip Packing Machine | Shivpharma\n",
      " Sep 6, 2013  ·  APPLICATION ... Strip Packing Machine is also known as strip pack machine is widely used for pharmaceutical packaging. Strip packing machine is ... \n",
      "http://www.shivpharma.com/product/strip-packing-machine/\n",
      "\n",
      "63. What Is Plastic Packing Strip Machine And How Does It Work?\n",
      " Jun 5, 2023  ·  A plastic packing strip machine is a specialized tool used to create plastic straps used to package a variety of goods. \n",
      "https://www.kinglongly-tech.com/what-is-plastic-packing-strip-machine-and-how-does-it-work/\n",
      "\n",
      "64. Same but different: Strip packaging and blister packaging - Accupack\n",
      " Sep 14, 2022  ·  Definitions of Blister and Strip Packaging · Process used in Strip and Blisters · Which of the packing methods is faster? · Are there any ... \n",
      "https://www.accupackengineering.com/post/same-but-different-strip-packaging-and-blister-packaging/\n",
      "\n",
      "65. [PDF] Surface-area-of-Strip-Packing-machine-for-Cleaning-Validation.pdf\n",
      " Surface Area of Strip Packing Machine. Surface Area of Channel. Length= 20 cm. Width = 16 cm. Surface area = LxW. = 20 x 16= 320 cm2. =49.6 inch2. \n",
      "https://pharmadevils.com/wp-content/uploads/2023/12/Surface-area-of-Strip-Packing-machine-for-Cleaning-Validation.pdf\n",
      "\n",
      "66. Strip Packaging - Rockingham - Medical Center Pharmacy\n",
      " Strip packaging is a versatile program that allows for medications to be packaged down to time of day. The packaging is easy to open, easy to read, and easy to ... \n",
      "https://www.medicalcenterpharmacy.com/strip-packaging\n",
      "\n",
      "67. Comprehensive Guide to Tablet Strip Packing Machines - ...\n",
      " Sep 18, 2024  ·  Tablet strip packing machines are essential for efficiently and securely packaging tablets and capsules in the pharmaceutical industry. \n",
      "https://www.osdmachinery.com/blog/comprehensive-guide-to-tablet-strip-packing-machines\n",
      "\n",
      "68. Strip Package VS Blister Package - Tiptop\n",
      " Strip Package. 1, Material cost, Alu-PVC blister is low, Alu-Alu blister is high, Strip is rated between the two types of blister pack. 2, Barrier protection ... \n",
      "https://www.tiptopfoil.com/strip-package-vs-blister-package/\n",
      "\n",
      "69. เครื่องสตริปแพ็คยา รุ่น DLL Series - TU Pack\n",
      " เครื่องสตริปแพ็คยา อัตโนมัติ (Automatic Double Aluminum Strip Packing Machine) ใช้สำหรับบรรจุแค๊ปซูล ยาเม็ด ซ๊อฟเจล และ ปิดด้วยฟิล์มอะลูมิเนียมฟรอยด์ด้านหน้า และด้านหลังจำนวน 2 แผ่น ตัว ... \n",
      "https://www.tupack.co.th/%E0%B9%80%E0%B8%84%E0%B8%A3%E0%B8%B7%E0%B9%88%E0%B8%AD%E0%B8%87%E0%B8%9C%E0%B8%A5%E0%B8%B4%E0%B8%95%E0%B8%A2%E0%B8%B2-%E0%B9%80%E0%B8%84%E0%B8%A3%E0%B8%B7%E0%B9%88%E0%B8%AD%E0%B8%87%E0%B9%81%E0%B8%9E%E0%B9%87%E0%B8%84%E0%B8%A2%E0%B8%B2/%E0%B9%80%E0%B8%84%E0%B8%A3%E0%B8%B7%E0%B9%88%E0%B8%AD%E0%B8%87%E0%B8%AA%E0%B8%95%E0%B8%A3%E0%B8%B4%E0%B8%9B%E0%B9%81%E0%B8%9E%E0%B9%87%E0%B8%84%E0%B8%A2%E0%B8%B2.html\n",
      "\n",
      "70. Strip Pak® Crating - UFP Packaging\n",
      " Strip Pak is a lower-cost alternative to all-wood crates because it combines a lighter-weighing corrugated material with wood framing components or “cleats” \n",
      "https://ufppackaging.com/products/strip-pak-crating\n",
      "\n",
      "71. Metal Strip Packing Machine - Golden Lights Trading LLC\n",
      " Offering the widest range of packaging tools in UAE such as Copper clips, Metal strips, and Metal Strip Packing machines, the company was established in the ... \n",
      "https://goldenlight.ae/packaging-tools/metal-strip-packing-machine/\n",
      "\n",
      "72. Sour Strips\n",
      " Actual Sour Candy · Sour Strips Bites · Variety Pack · Starter Pack · Original Sampler · Newbie Sampler · Blue Raspberry Party Pack · Party Pack Combo · Strawberry ... \n",
      "https://shop.sourstrips.com/collections/sour-strips\n",
      "\n",
      "73. stripack 350 Advanced Strip Packing Machine -SaintyCo - YouTube\n",
      " Sep 11, 2018  ·  Stripack-350 Advanced Strip Packing Machine Repeatable Performance The four side sealed foil pack containing pharmaceutical solids is widely ... \n",
      "https://www.youtube.com/watch?v=UA6eJs2c9Ls\n",
      "\n",
      "74. [PDF] Capsule/Tablet Strip Packaging Machine\n",
      " Our Blister Packing Machinery models include Model 150, 300, SB PACK 150, SB Pack 240, and SB 250 PDA. Apart from that, we also stock Strip Packing tools ... \n",
      "https://5.imimg.com/data5/SELLER/Doc/2021/4/ZI/FQ/KF/813506/pharmaceutical-packaging-machines.pdf\n",
      "\n",
      "75. Automated Strip Packaging: A Guide - Capsa Healthcare\n",
      " This blog post explores the features and advantages of using automated strip packaging for medications, and how it compares to the traditional methods like ... \n",
      "https://www.capsahealthcare.com/blog/pharmacy-automation/the-benefits-of-automated-strip-packaging/\n",
      "\n",
      "76. Aluminium Strip Foil Manufacturer in India\n",
      " Aluminium Strip Packaging Foil. LSKB Manufactures a range of soft ... Packing- Seaworthy Export Standard Wooden Box Packing/Pallet Packing. Ultra ... \n",
      "https://www.lskbfoils.com/foil-for-strip-pack\n",
      "\n",
      "77. Stripack-500 Automatic Tablet/Capsule Strip Packing Machine\n",
      " Apr 8, 2022  ·  You can visit our website to get more info about the Strip Packing Machine: www.saintyco.com You can communicate with us via the following ... \n",
      "https://www.youtube.com/watch?v=krx-GQmQa38\n",
      "\n",
      "78. Paper based strip packaging solution - Romaco\n",
      " Strip packaging for efficient and sustainable production. First paper based strip pack! \n",
      "https://www.romaco.com/solutions/blister-heat-sealing-solutions/paper-based-strips\n",
      "\n",
      "79. Fabric Precuts, Panels & Collections | Annie's Attic\n",
      " ... Laguna Sunrise 18\" x 22\" Fabric ... Strip Pack 40 Count. $34.99$49.99. Add to Cart. \n",
      "https://www.anniesattic.com/shop/fabric/\n",
      "\n",
      "80. Menu – Epic Wings\n",
      " ... pack. Packs. Family Pack. Choose one style of chicken below:. 16pc Tenderloin Strips; 24pc Original Buffalo Wings. Includes (8) oven-fresh bread sticks. Party ... \n",
      "https://www.epicwings.com/menu\n",
      "\n",
      "81. Strip Packaging - Kelley-Ross Pharmacy Group\n",
      " Our Multi Dose Strip Packaging organizes all your medications by day and time of dose in a convenient plastic pouch. \n",
      "https://www.kelley-ross.com/services/strip-packaging/\n",
      "\n",
      "82. Match Pack: Sunderland - Watford FC\n",
      " 3 days ago  ·  Strip: Yellow home kit` TV: Sky Sports Main Event/Sky Sports Football. Officials. Referee: Robert Jones Assistant Referees: Ian Hussin & Neil ... \n",
      "https://www.watfordfc.com/news/2025/february/07/match-pack-sunderland-2025/\n",
      "\n",
      "83. List of Prohibited Items | Guest Services - Disney Cruise Line\n",
      " Packing Checklist · Travel Documentation. My Account. My Profile · DisneyBand+ ... Extension cords, power strips, multi-plugs and surge protectors; Ham radios ... \n",
      "https://disneycruise.disney.go.com/guest-services/prohibited-items/\n",
      "\n",
      "84. Restaurant Wing Menu, Hot Wings, Buffalo Wings, Family Meals\n",
      " 5 Strip Combo. 1 FLAVOR • 1 DIP. Chicken Fries. Buffalo ... 20 Wings family pack, 3 Flavors, 2 Dips, Large Fries, Veggie Sticks. 40 ... \n",
      "https://www.firewings.com/chicken-wings-menu\n",
      "\n",
      "85. Packing your bags for sunny Mar-a-Gaza? Not so fast. - Baltimore Sun\n",
      " 2 days ago  ·  Trump's plan for redevelopment of Gaza Strip is both foolish and unworkable, not a great combination. \n",
      "https://www.baltimoresun.com/2025/02/07/packing-your-bags-for-sunny-mar-a-gaza-not-so-fast-editorial/\n",
      "\n",
      "86. Korea-PnP Partners-Strip Sachet packing machine-Tablet - YouTube\n",
      " May 14, 2020  ·  Korea Strip Sachet Packaging Machine, YTB-4S-10lanes *Manufacturer : Youngtechpack *Type : 4 Side sealing Sachet For more details, ... \n",
      "https://www.youtube.com/watch?v=or4emN4M6rE\n",
      "\n",
      "87. LED Strip Lights - Screwfix\n",
      " Packing Tape · Electrical Tape · Safety & Hazard Tapes · Hook & Loop Tape · Carpet ... LED Strip Lights. (139 products). LED strip lights, also referred to as ... \n",
      "https://www.screwfix.com/c/electrical-lighting/led-strip-lights/cat8580002\n",
      "\n",
      "88. Packing stripes - Rüde Gruppe\n",
      " Grey packing stripe for the rear ventilation for the transport and storage of prefabricated elements. Dimensions of approximately 20 x 5 mm with waveform. Other ... \n",
      "https://www.ruede.de/en/product/packing-stripes/\n",
      "\n",
      "89. Smart LED Strip Lights | Philips Hue\n",
      " Single pack (2). Extension (1). Base kit with power supply (8). Length. For 55 ... Are strip lights safe? Philips Hue lightstrips are designed with safety ... \n",
      "https://www.philips-hue.com/en-us/products/smart-light-strips\n",
      "\n",
      "90. Menu - Barcelos\n",
      " Half Pack. R138.90. 1/2 chicken, 2x ... Double Delicious. R78.90. Double Delicious & Regular Side. R99.80. + Drink. R21.90. 2x chicken strip rolls with cheese ... \n",
      "https://barcelos.co.za/menu/\n",
      "\n",
      "91. Stripform Packaging\n",
      " Welcome to Stripform Packaging (Pty) Ltd · Packaging Materials and Systems Experts · Since its inception in 1975, our company has been a pioneer in the ... \n",
      "https://www.stripform.co.za/\n",
      "\n",
      "92. KFC CHICKEN BUCKETS Menu\n",
      " ... Strip at a deal price. ₹189.52. Add to cart. Zinger Tandoori Box. A deal for ... Regular Pack of. \n",
      "https://online.kfc.co.in/menu/chicken-buckets\n",
      "\n",
      "93. Restricted items − Travel information - American Airlines\n",
      " Dry ice for packing perishable items. Allowed for travel? Yes. Notes. You can ... Swingless golf club load strips. Allowed for travel? No. Notes. You can ... \n",
      "https://www.aa.com/i18n/travel-info/baggage/restricted-items.jsp\n",
      "\n",
      "94. Crispy Tenders Wacky Pack® - Nearby For Delivery or Pick Up | Sonic\n",
      " Order our Crispy Tenders Wacky Pack® online now at SONIC Drive-In! Be first in line, every time. \n",
      "https://www.sonicdrivein.com/menu/wacky-pack-kids-meals/crispy-tenders-wacky-pack/\n",
      "\n",
      "95. Jack in the Box\n",
      " Eat food, earn points. Spend a dollar, get a point! It's that easy to enjoy the perks of The Jack Pack®. Sign Up. Already have an account? Log In. \n",
      "https://www.jackinthebox.com/\n",
      "\n",
      "96. The Ultimate Cruise Packing List for 2025 - U.S. News Travel\n",
      " What is prohibited to bring on a cruise? Power strip. Many cruise lines do not permit power strips as they present a fire hazard, while others allow them as ... \n",
      "https://travel.usnews.com/features/cruise-packing-list-the-best-things-to-pack-on-a-cruise\n",
      "\n",
      "97. Damage Free Adhesive Hooks & Strips | Command™ Brand\n",
      " Ayesha Curry wearing a green sweater, smiling and holding up a value pack of Command. Get Organized this New Year with Ayesha Curry and Command™ Brand. When ... \n",
      "https://www.command.com/3M/en_US/command/\n",
      "\n",
      "98. Value Fest Menu - Galito's South Africa\n",
      " Value Pack. Full Chicken + 2 Regular Chips or 2 Jumbo Paps. 189. 20. Start Order ... Saucy Chicken Strips & Pap. Grilled Chicken Strips on a portion of Jumbo Pap ... \n",
      "https://www.galitos.co.za/menu/\n",
      "\n",
      "99. What items are prohibited onboard a Royal Caribbean Cruise Ship?\n",
      " Electrical Extension Cords - including power strips/surge protected strips and multi-plug outlets. We do allow consumer type power conversion device USB ... \n",
      "https://www.royalcaribbean.com/faq/questions/prohibited-items-onboard-policy\n",
      "\n"
     ]
    }
   ],
   "source": [
    "for i, r in enumerate(res):\n",
    "    print(str(i)+\". \"+r.title)\n",
    "    print(r.description)\n",
    "    print(r.url)\n",
    "    print()"
   ]
  },
  {
   "cell_type": "code",
   "execution_count": null,
   "metadata": {},
   "outputs": [],
   "source": [
    "from scholarly import scholarly\n",
    "\n"
   ]
  },
  {
   "cell_type": "code",
   "execution_count": 13,
   "metadata": {},
   "outputs": [
    {
     "name": "stdout",
     "output_type": "stream",
     "text": [
      "{'container_type': 'Publication', 'source': <PublicationSource.PUBLICATION_SEARCH_SNIPPET: 'PUBLICATION_SEARCH_SNIPPET'>, 'bib': {'title': 'Large Concept Models: Language Modeling in a Sentence Representation Space', 'author': ['LCM The', 'L Barrault', 'PA Duquenne', 'M Elbayad'], 'pub_year': '2024', 'venue': 'arXiv preprint arXiv …', 'abstract': 'The goal of this paper is to provide a proof of concept of this high-level vision of an  in  language modeling. In the next section we present the main design principles of our models and'}, 'filled': False, 'gsrank': 1, 'pub_url': 'https://arxiv.org/abs/2412.08821', 'author_id': ['', 'S6Xj1BYAAAAJ', 'Uah8IcAAAAAJ', '4MFYc7AAAAAJ'], 'url_scholarbib': '/scholar?hl=en&q=info:YXj70z22My0J:scholar.google.com/&output=cite&scirp=0&hl=en', 'url_add_sclib': '/citations?hl=en&xsrf=&continue=/scholar%3Fq%3DLarge%2BConcept%2BModels%2Bsentence%2Blevel%26hl%3Den%26as_sdt%3D0,33&citilm=1&update_op=library_add&info=YXj70z22My0J&ei=fDaxZ_f6D5-_6rQPoa3DoAo&json=', 'num_citations': 0, 'url_related_articles': '/scholar?q=related:YXj70z22My0J:scholar.google.com/&scioq=Large+Concept+Models+sentence+level&hl=en&as_sdt=0,33', 'eprint_url': 'https://arxiv.org/pdf/2412.08821'}\n",
      "{'container_type': 'Publication', 'source': <PublicationSource.PUBLICATION_SEARCH_SNIPPET: 'PUBLICATION_SEARCH_SNIPPET'>, 'bib': {'title': 'Learning semantic concepts and order for image and sentence matching', 'author': ['Y Huang', 'Q Wu', 'C Song'], 'pub_year': '2018', 'venue': 'Proceedings of the IEEE …', 'abstract': 'high-level semantic concepts are the essential content to be compared with the matched  sentence Considering that the size of the concept vocabulary is very large, we ignore those'}, 'filled': False, 'gsrank': 2, 'pub_url': 'http://openaccess.thecvf.com/content_cvpr_2018/html/Huang_Learning_Semantic_Concepts_CVPR_2018_paper.html', 'author_id': ['6nUJrQ0AAAAJ', 'aKXe1FEAAAAJ', 'k-tibewAAAAJ'], 'url_scholarbib': '/scholar?hl=en&q=info:ab1ISZ2165cJ:scholar.google.com/&output=cite&scirp=1&hl=en', 'url_add_sclib': '/citations?hl=en&xsrf=&continue=/scholar%3Fq%3DLarge%2BConcept%2BModels%2Bsentence%2Blevel%26hl%3Den%26as_sdt%3D0,33&citilm=1&update_op=library_add&info=ab1ISZ2165cJ&ei=fDaxZ_f6D5-_6rQPoa3DoAo&json=', 'num_citations': 403, 'citedby_url': '/scholar?cites=10947043006398119273&as_sdt=5,33&sciodt=0,33&hl=en', 'url_related_articles': '/scholar?q=related:ab1ISZ2165cJ:scholar.google.com/&scioq=Large+Concept+Models+sentence+level&hl=en&as_sdt=0,33', 'eprint_url': 'https://openaccess.thecvf.com/content_cvpr_2018/papers/Huang_Learning_Semantic_Concepts_CVPR_2018_paper.pdf'}\n",
      "{'container_type': 'Publication', 'source': <PublicationSource.PUBLICATION_SEARCH_SNIPPET: 'PUBLICATION_SEARCH_SNIPPET'>, 'bib': {'title': 'Image and sentence matching via semantic concepts and order learning', 'author': ['Y Huang', 'Q Wu', 'W Wang'], 'pub_year': '2018', 'venue': 'IEEE transactions on …', 'abstract': 'Considering that the size of concept vocabulary could be very large, we ignore those words  that  and sort the concepts in the word level, but instead in the level of concept-related image'}, 'filled': False, 'gsrank': 3, 'pub_url': 'https://ieeexplore.ieee.org/abstract/document/8550752/', 'author_id': ['6nUJrQ0AAAAJ', 'aKXe1FEAAAAJ', 'bW7FUnYAAAAJ'], 'url_scholarbib': '/scholar?hl=en&q=info:0Vo95i1j-bIJ:scholar.google.com/&output=cite&scirp=2&hl=en', 'url_add_sclib': '/citations?hl=en&xsrf=&continue=/scholar%3Fq%3DLarge%2BConcept%2BModels%2Bsentence%2Blevel%26hl%3Den%26as_sdt%3D0,33&citilm=1&update_op=library_add&info=0Vo95i1j-bIJ&ei=fDaxZ_f6D5-_6rQPoa3DoAo&json=', 'num_citations': 38, 'citedby_url': '/scholar?cites=12896448056739584721&as_sdt=5,33&sciodt=0,33&hl=en', 'url_related_articles': '/scholar?q=related:0Vo95i1j-bIJ:scholar.google.com/&scioq=Large+Concept+Models+sentence+level&hl=en&as_sdt=0,33'}\n",
      "{'container_type': 'Publication', 'source': <PublicationSource.PUBLICATION_SEARCH_SNIPPET: 'PUBLICATION_SEARCH_SNIPPET'>, 'bib': {'title': 'What Is Important to Measure in Sentence-Level Language Comprehension?', 'author': ['CM Sarmiento', 'AJ Truckenmiller'], 'pub_year': '2024', 'venue': 'Assessment for Effective …', 'abstract': 'Hereafter, we will refer to the larger assessment as the RAPID.  (2016), we coded each of  the following categories as individual idea units: main phrase, embedded clauses, transitional'}, 'filled': False, 'gsrank': 4, 'pub_url': 'https://journals.sagepub.com/doi/abs/10.1177/15345084241265620', 'author_id': ['', 'K4uXy58AAAAJ'], 'url_scholarbib': '/scholar?hl=en&q=info:Cxs7gVlKVQ8J:scholar.google.com/&output=cite&scirp=3&hl=en', 'url_add_sclib': '/citations?hl=en&xsrf=&continue=/scholar%3Fq%3DLarge%2BConcept%2BModels%2Bsentence%2Blevel%26hl%3Den%26as_sdt%3D0,33&citilm=1&update_op=library_add&info=Cxs7gVlKVQ8J&ei=fDaxZ_f6D5-_6rQPoa3DoAo&json=', 'num_citations': 2, 'citedby_url': '/scholar?cites=1104871031870003979&as_sdt=5,33&sciodt=0,33&hl=en', 'url_related_articles': '/scholar?q=related:Cxs7gVlKVQ8J:scholar.google.com/&scioq=Large+Concept+Models+sentence+level&hl=en&as_sdt=0,33'}\n",
      "{'container_type': 'Publication', 'source': <PublicationSource.PUBLICATION_SEARCH_SNIPPET: 'PUBLICATION_SEARCH_SNIPPET'>, 'bib': {'title': 'A sentence is worth a thousand pictures: Can large language models understand human language?', 'author': ['G Marcus', 'E Leivada', 'E Murphy'], 'pub_year': '2023', 'venue': 'arXiv preprint arXiv:2308.00109', 'abstract': 'The current generation of large language models have been  We analyze the contribution  of large language models as  At a conceptual level, the tools lack reliability and fall short of'}, 'filled': False, 'gsrank': 5, 'pub_url': 'https://arxiv.org/abs/2308.00109', 'author_id': ['', 'x5Hww14AAAAJ', '4AYNRj0AAAAJ'], 'url_scholarbib': '/scholar?hl=en&q=info:_zEyDn0rzQUJ:scholar.google.com/&output=cite&scirp=4&hl=en', 'url_add_sclib': '/citations?hl=en&xsrf=&continue=/scholar%3Fq%3DLarge%2BConcept%2BModels%2Bsentence%2Blevel%26hl%3Den%26as_sdt%3D0,33&citilm=1&update_op=library_add&info=_zEyDn0rzQUJ&ei=fDaxZ_f6D5-_6rQPoa3DoAo&json=', 'num_citations': 11, 'citedby_url': '/scholar?cites=418038156524401151&as_sdt=5,33&sciodt=0,33&hl=en', 'url_related_articles': '/scholar?q=related:_zEyDn0rzQUJ:scholar.google.com/&scioq=Large+Concept+Models+sentence+level&hl=en&as_sdt=0,33', 'eprint_url': 'https://arxiv.org/pdf/2308.00109'}\n",
      "{'container_type': 'Publication', 'source': <PublicationSource.PUBLICATION_SEARCH_SNIPPET: 'PUBLICATION_SEARCH_SNIPPET'>, 'bib': {'title': 'Modeling sentences in the latent space', 'author': ['W Guo', 'M Diab'], 'pub_year': '2012', 'venue': 'Proceedings of the 50th Annual Meeting of the …', 'abstract': 'framework for sentence similarity: Concept Definition  missing words at the right level of  emphasis/impact is central  framework for sentence similarity that allows large scale tuning and'}, 'filled': False, 'gsrank': 6, 'pub_url': 'https://aclanthology.org/P12-1091.pdf', 'author_id': ['uTw5OJ0AAAAJ', '-y6SIhQAAAAJ'], 'url_scholarbib': '/scholar?hl=en&q=info:G1mNTA9t-bUJ:scholar.google.com/&output=cite&scirp=5&hl=en', 'url_add_sclib': '/citations?hl=en&xsrf=&continue=/scholar%3Fq%3DLarge%2BConcept%2BModels%2Bsentence%2Blevel%26hl%3Den%26as_sdt%3D0,33&citilm=1&update_op=library_add&info=G1mNTA9t-bUJ&ei=fDaxZ_f6D5-_6rQPoa3DoAo&json=', 'num_citations': 177, 'citedby_url': '/scholar?cites=13112631702542178587&as_sdt=5,33&sciodt=0,33&hl=en', 'url_related_articles': '/scholar?q=related:G1mNTA9t-bUJ:scholar.google.com/&scioq=Large+Concept+Models+sentence+level&hl=en&as_sdt=0,33', 'eprint_url': 'https://aclanthology.org/P12-1091.pdf'}\n",
      "{'container_type': 'Publication', 'source': <PublicationSource.PUBLICATION_SEARCH_SNIPPET: 'PUBLICATION_SEARCH_SNIPPET'>, 'bib': {'title': 'Comparing the quality and speed of sentence classification with modern language models', 'author': ['K Fiok', 'W Karwowski', 'E Gutierrez', 'M Reza-Davahli'], 'pub_year': '2020', 'venue': 'Applied Sciences', 'abstract': 'models based on various state-of-the-art LMs. With this framework, we instantiated sentence-level   data set, sentence embeddings as short as 16 elements enabled high performance. A'}, 'filled': False, 'gsrank': 7, 'pub_url': 'https://www.mdpi.com/2076-3417/10/10/3386', 'author_id': ['Puld3dsAAAAJ', 'G01lsFAAAAAJ', 'xPu0Tx0AAAAJ', '9U5GmD8AAAAJ'], 'url_scholarbib': '/scholar?hl=en&q=info:i9J8FMbzHWsJ:scholar.google.com/&output=cite&scirp=6&hl=en', 'url_add_sclib': '/citations?hl=en&xsrf=&continue=/scholar%3Fq%3DLarge%2BConcept%2BModels%2Bsentence%2Blevel%26hl%3Den%26as_sdt%3D0,33&citilm=1&update_op=library_add&info=i9J8FMbzHWsJ&ei=fDaxZ_f6D5-_6rQPoa3DoAo&json=', 'num_citations': 18, 'citedby_url': '/scholar?cites=7718593368455697035&as_sdt=5,33&sciodt=0,33&hl=en', 'url_related_articles': '/scholar?q=related:i9J8FMbzHWsJ:scholar.google.com/&scioq=Large+Concept+Models+sentence+level&hl=en&as_sdt=0,33', 'eprint_url': 'https://www.mdpi.com/2076-3417/10/10/3386'}\n"
     ]
    }
   ],
   "source": [
    "scc = scholarly.search_pubs('Large Concept Models sentence level')\n",
    "\n",
    "a = []\n",
    "i = 0\n",
    "for res in scc:\n",
    "    i = i+1\n",
    "    if i > 7:\n",
    "        break\n",
    "    print(res)\n",
    "    a.append(res)"
   ]
  },
  {
   "cell_type": "code",
   "execution_count": 14,
   "metadata": {},
   "outputs": [
    {
     "name": "stdout",
     "output_type": "stream",
     "text": [
      "{'container_type': 'Publication', 'source': <PublicationSource.PUBLICATION_SEARCH_SNIPPET: 'PUBLICATION_SEARCH_SNIPPET'>, 'bib': {'title': 'Large Concept Models: Language Modeling in a Sentence Representation Space', 'author': ['LCM The', 'L Barrault', 'PA Duquenne', 'M Elbayad'], 'pub_year': '2024', 'venue': 'arXiv preprint arXiv …', 'abstract': 'The goal of this paper is to provide a proof of concept of this high-level vision of an  in  language modeling. In the next section we present the main design principles of our models and'}, 'filled': False, 'gsrank': 1, 'pub_url': 'https://arxiv.org/abs/2412.08821', 'author_id': ['', 'S6Xj1BYAAAAJ', 'Uah8IcAAAAAJ', '4MFYc7AAAAAJ'], 'url_scholarbib': '/scholar?hl=en&q=info:YXj70z22My0J:scholar.google.com/&output=cite&scirp=0&hl=en', 'url_add_sclib': '/citations?hl=en&xsrf=&continue=/scholar%3Fq%3DLarge%2BConcept%2BModels%2Bsentence%2Blevel%26hl%3Den%26as_sdt%3D0,33&citilm=1&update_op=library_add&info=YXj70z22My0J&ei=fDaxZ_f6D5-_6rQPoa3DoAo&json=', 'num_citations': 0, 'url_related_articles': '/scholar?q=related:YXj70z22My0J:scholar.google.com/&scioq=Large+Concept+Models+sentence+level&hl=en&as_sdt=0,33', 'eprint_url': 'https://arxiv.org/pdf/2412.08821'}\n"
     ]
    }
   ],
   "source": [
    "print(a[0])"
   ]
  },
  {
   "cell_type": "code",
   "execution_count": 41,
   "metadata": {},
   "outputs": [],
   "source": [
    "first_publication_filled = scholarly.fill(a[3])\n"
   ]
  },
  {
   "cell_type": "code",
   "execution_count": 42,
   "metadata": {},
   "outputs": [
    {
     "data": {
      "text/plain": [
       "{'container_type': 'Publication',\n",
       " 'source': <PublicationSource.PUBLICATION_SEARCH_SNIPPET: 'PUBLICATION_SEARCH_SNIPPET'>,\n",
       " 'bib': {'title': 'What Is Important to Measure in Sentence-Level Language Comprehension?',\n",
       "  'author': 'Sarmiento, Cherish M and Truckenmiller, Adrea J',\n",
       "  'pub_year': '2024',\n",
       "  'venue': 'Assessment for Effective …',\n",
       "  'abstract': 'Hereafter, we will refer to the larger assessment as the RAPID.  (2016), we coded each of  the following categories as individual idea units: main phrase, embedded clauses, transitional',\n",
       "  'publisher': 'SAGE Publications Sage CA: Los Angeles, CA',\n",
       "  'pages': '202--213',\n",
       "  'number': '4',\n",
       "  'volume': '49',\n",
       "  'journal': 'Assessment for Effective Intervention',\n",
       "  'ENTRYTYPE': 'article',\n",
       "  'ID': 'sarmiento2024important',\n",
       "  'pub_type': 'article',\n",
       "  'bib_id': 'sarmiento2024important'},\n",
       " 'filled': True,\n",
       " 'gsrank': 4,\n",
       " 'pub_url': 'https://journals.sagepub.com/doi/abs/10.1177/15345084241265620',\n",
       " 'author_id': ['', 'K4uXy58AAAAJ'],\n",
       " 'url_scholarbib': '/scholar?hl=en&q=info:Cxs7gVlKVQ8J:scholar.google.com/&output=cite&scirp=3&hl=en',\n",
       " 'url_add_sclib': '/citations?hl=en&xsrf=&continue=/scholar%3Fq%3DLarge%2BConcept%2BModels%2Bsentence%2Blevel%26hl%3Den%26as_sdt%3D0,33&citilm=1&update_op=library_add&info=Cxs7gVlKVQ8J&ei=fDaxZ_f6D5-_6rQPoa3DoAo&json=',\n",
       " 'num_citations': 2,\n",
       " 'citedby_url': '/scholar?cites=1104871031870003979&as_sdt=5,33&sciodt=0,33&hl=en',\n",
       " 'url_related_articles': '/scholar?q=related:Cxs7gVlKVQ8J:scholar.google.com/&scioq=Large+Concept+Models+sentence+level&hl=en&as_sdt=0,33'}"
      ]
     },
     "execution_count": 42,
     "metadata": {},
     "output_type": "execute_result"
    }
   ],
   "source": [
    "first_publication_filled"
   ]
  },
  {
   "cell_type": "code",
   "execution_count": 20,
   "metadata": {},
   "outputs": [
    {
     "name": "stdout",
     "output_type": "stream",
     "text": [
      "['Academic language use in middle school informational writing', 'A Pilot Study of Explicit Instructional Scaffolds to Teach Science Argument Writing']\n"
     ]
    }
   ],
   "source": [
    "citations = [citation['bib']['title'] for citation in scholarly.citedby(first_publication_filled)]\n",
    "print(citations)\n"
   ]
  },
  {
   "cell_type": "code",
   "execution_count": 31,
   "metadata": {},
   "outputs": [
    {
     "name": "stdout",
     "output_type": "stream",
     "text": [
      "@article{the2024large,\n",
      " abstract = {The goal of this paper is to provide a proof of concept of this high-level vision of an  in  language modeling. In the next section we present the main design principles of our models and},\n",
      " author = {The, LCM and Barrault, Lo{\\\"\\i}c and Duquenne, Paul-Ambroise and Elbayad, Maha and Kozhevnikov, Artyom and Alastruey, Belen and Andrews, Pierre and Coria, Mariano and Couairon, Guillaume and Costa-juss{\\`a}, Marta R and others},\n",
      " journal = {arXiv preprint arXiv:2412.08821},\n",
      " pub_year = {2024},\n",
      " title = {Large Concept Models: Language Modeling in a Sentence Representation Space},\n",
      " venue = {arXiv preprint arXiv …}\n",
      "}\n",
      "\n"
     ]
    }
   ],
   "source": [
    "print(scholarly.bibtex(first_publication_filled))"
   ]
  },
  {
   "cell_type": "code",
   "execution_count": 38,
   "metadata": {},
   "outputs": [
    {
     "name": "stdout",
     "output_type": "stream",
     "text": [
      "{'container_type': 'Publication', 'source': <PublicationSource.PUBLICATION_SEARCH_SNIPPET: 'PUBLICATION_SEARCH_SNIPPET'>, 'bib': {'title': 'Large Concept Models: Language Modeling in a Sentence Representation Space', 'author': 'The, LCM and Barrault, Lo{\\\\\"\\\\i}c and Duquenne, Paul-Ambroise and Elbayad, Maha and Kozhevnikov, Artyom and Alastruey, Belen and Andrews, Pierre and Coria, Mariano and Couairon, Guillaume and Costa-juss{\\\\`a}, Marta R and others', 'pub_year': '2024', 'venue': 'arXiv preprint arXiv …', 'abstract': 'The goal of this paper is to provide a proof of concept of this high-level vision of an  in  language modeling. In the next section we present the main design principles of our models and', 'journal': 'arXiv preprint arXiv:2412.08821', 'ENTRYTYPE': 'article', 'ID': 'the2024large'}, 'filled': True, 'gsrank': 1, 'pub_url': 'https://arxiv.org/abs/2412.08821', 'author_id': ['', 'S6Xj1BYAAAAJ', 'Uah8IcAAAAAJ', '4MFYc7AAAAAJ'], 'url_scholarbib': '/scholar?hl=en&q=info:YXj70z22My0J:scholar.google.com/&output=cite&scirp=0&hl=en', 'url_add_sclib': '/citations?hl=en&xsrf=&continue=/scholar%3Fq%3DLarge%2BConcept%2BModels%2Bsentence%2Blevel%26hl%3Den%26as_sdt%3D0,33&citilm=1&update_op=library_add&info=YXj70z22My0J&ei=fDaxZ_f6D5-_6rQPoa3DoAo&json=', 'num_citations': 0, 'url_related_articles': '/scholar?q=related:YXj70z22My0J:scholar.google.com/&scioq=Large+Concept+Models+sentence+level&hl=en&as_sdt=0,33', 'eprint_url': 'https://arxiv.org/pdf/2412.08821'}\n"
     ]
    }
   ],
   "source": [
    "print(first_publication_filled)"
   ]
  },
  {
   "cell_type": "code",
   "execution_count": 52,
   "metadata": {},
   "outputs": [],
   "source": [
    "cited = scholarly.citedby(first_publication_filled)"
   ]
  },
  {
   "cell_type": "code",
   "execution_count": 53,
   "metadata": {},
   "outputs": [
    {
     "name": "stdout",
     "output_type": "stream",
     "text": [
      "[{'container_type': 'Publication', 'source': <PublicationSource.PUBLICATION_SEARCH_SNIPPET: 'PUBLICATION_SEARCH_SNIPPET'>, 'bib': {'title': 'Academic language use in middle school informational writing', 'author': ['CM Sarmiento', 'AJ Truckenmiller'], 'pub_year': '2022', 'venue': 'British Journal of …', 'abstract': 'Background Learning to write the complex academic language (AL) associated with a discipline (like science) is a critical task in education, with middle school being a key'}, 'filled': False, 'gsrank': 1, 'pub_url': 'https://bpspsychub.onlinelibrary.wiley.com/doi/abs/10.1111/bjep.12724', 'author_id': ['', 'K4uXy58AAAAJ'], 'url_scholarbib': '/scholar?hl=en&q=info:6wP86GAfqhsJ:scholar.google.com/&output=cite&scirp=0&hl=en', 'url_add_sclib': '/citations?hl=en&xsrf=&continue=/scholar%3Fhl%3Den%26as_sdt%3D5,33%26sciodt%3D0,33%26cites%3D1104871031870003979%26scipsc%3D&citilm=1&update_op=library_add&info=6wP86GAfqhsJ&ei=hj2xZ9CTC_qu6rQPmsSPUA&json=', 'num_citations': 5, 'citedby_url': '/scholar?cites=1993440286151017451&as_sdt=5,33&sciodt=0,33&hl=en', 'url_related_articles': '/scholar?q=related:6wP86GAfqhsJ:scholar.google.com/&scioq=&hl=en&as_sdt=5,33&sciodt=0,33', 'eprint_url': 'https://bpspsychub.onlinelibrary.wiley.com/doi/full/10.1111/bjep.12724'}, {'container_type': 'Publication', 'source': <PublicationSource.PUBLICATION_SEARCH_SNIPPET: 'PUBLICATION_SEARCH_SNIPPET'>, 'bib': {'title': 'A Pilot Study of Explicit Instructional Scaffolds to Teach Science Argument Writing', 'author': ['CM Sarmiento'], 'pub_year': '2024', 'venue': 'NA', 'abstract': \"An emerging body of research suggests that content-rich literacy instruction has the power to expand elementary children's domain-general and domain-specific literacy skills. For\"}, 'filled': False, 'gsrank': 2, 'pub_url': 'https://search.proquest.com/openview/383e5fd6d7b90630bbb57572feca8625/1?pq-origsite=gscholar&cbl=18750&diss=y', 'author_id': [''], 'url_scholarbib': '/scholar?hl=en&q=info:utIJ2aM-o4MJ:scholar.google.com/&output=cite&scirp=1&hl=en', 'url_add_sclib': '/citations?hl=en&xsrf=&continue=/scholar%3Fhl%3Den%26as_sdt%3D5,33%26sciodt%3D0,33%26cites%3D1104871031870003979%26scipsc%3D&citilm=1&update_op=library_add&info=utIJ2aM-o4MJ&ei=hj2xZ9CTC_qu6rQPmsSPUA&json=', 'num_citations': 0, 'url_related_articles': '/scholar?q=related:utIJ2aM-o4MJ:scholar.google.com/&scioq=&hl=en&as_sdt=5,33&sciodt=0,33'}]\n"
     ]
    }
   ],
   "source": [
    "print(list(cited))"
   ]
  },
  {
   "cell_type": "code",
   "execution_count": 44,
   "metadata": {},
   "outputs": [],
   "source": [
    "for i in cited:\n",
    "    print(i)\n",
    "    print()"
   ]
  }
 ],
 "metadata": {
  "kernelspec": {
   "display_name": ".venv",
   "language": "python",
   "name": "python3"
  },
  "language_info": {
   "codemirror_mode": {
    "name": "ipython",
    "version": 3
   },
   "file_extension": ".py",
   "mimetype": "text/x-python",
   "name": "python",
   "nbconvert_exporter": "python",
   "pygments_lexer": "ipython3",
   "version": "3.12.3"
  }
 },
 "nbformat": 4,
 "nbformat_minor": 2
}
