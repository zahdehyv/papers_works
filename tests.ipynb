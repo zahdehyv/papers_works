{
 "cells": [
  {
   "cell_type": "code",
   "execution_count": 1,
   "metadata": {},
   "outputs": [
    {
     "name": "stdout",
     "output_type": "stream",
     "text": [
      "<?xml version=\"1.0\" encoding=\"UTF-8\"?>\n",
      "<feed xmlns=\"http://www.w3.org/2005/Atom\">\n",
      "  <link href=\"http://arxiv.org/api/query?search_query%3Dall%3Aelectron%26id_list%3D%26start%3D0%26max_results%3D1\" rel=\"self\" type=\"application/atom+xml\"/>\n",
      "  <title type=\"html\">ArXiv Query: search_query=all:electron&amp;id_list=&amp;start=0&amp;max_results=1</title>\n",
      "  <id>http://arxiv.org/api/cHxbiOdZaP56ODnBPIenZhzg5f8</id>\n",
      "  <updated>2025-02-02T00:00:00-05:00</updated>\n",
      "  <opensearch:totalResults xmlns:opensearch=\"http://a9.com/-/spec/opensearch/1.1/\">219974</opensearch:totalResults>\n",
      "  <opensearch:startIndex xmlns:opensearch=\"http://a9.com/-/spec/opensearch/1.1/\">0</opensearch:startIndex>\n",
      "  <opensearch:itemsPerPage xmlns:opensearch=\"http://a9.com/-/spec/opensearch/1.1/\">1</opensearch:itemsPerPage>\n",
      "  <entry>\n",
      "    <id>http://arxiv.org/abs/cond-mat/0102536v1</id>\n",
      "    <updated>2001-02-28T20:12:09Z</updated>\n",
      "    <published>2001-02-28T20:12:09Z</published>\n",
      "    <title>Impact of Electron-Electron Cusp on Configuration Interaction Energies</title>\n",
      "    <summary>  The effect of the electron-electron cusp on the convergence of configuration\n",
      "interaction (CI) wave functions is examined. By analogy with the\n",
      "pseudopotential approach for electron-ion interactions, an effective\n",
      "electron-electron interaction is developed which closely reproduces the\n",
      "scattering of the Coulomb interaction but is smooth and finite at zero\n",
      "electron-electron separation. The exact many-electron wave function for this\n",
      "smooth effective interaction has no cusp at zero electron-electron separation.\n",
      "We perform CI and quantum Monte Carlo calculations for He and Be atoms, both\n",
      "with the Coulomb electron-electron interaction and with the smooth effective\n",
      "electron-electron interaction. We find that convergence of the CI expansion of\n",
      "the wave function for the smooth electron-electron interaction is not\n",
      "significantly improved compared with that for the divergent Coulomb interaction\n",
      "for energy differences on the order of 1 mHartree. This shows that, contrary to\n",
      "popular belief, description of the electron-electron cusp is not a limiting\n",
      "factor, to within chemical accuracy, for CI calculations.\n",
      "</summary>\n",
      "    <author>\n",
      "      <name>David Prendergast</name>\n",
      "      <arxiv:affiliation xmlns:arxiv=\"http://arxiv.org/schemas/atom\">Department of Physics</arxiv:affiliation>\n",
      "    </author>\n",
      "    <author>\n",
      "      <name>M. Nolan</name>\n",
      "      <arxiv:affiliation xmlns:arxiv=\"http://arxiv.org/schemas/atom\">NMRC, University College, Cork, Ireland</arxiv:affiliation>\n",
      "    </author>\n",
      "    <author>\n",
      "      <name>Claudia Filippi</name>\n",
      "      <arxiv:affiliation xmlns:arxiv=\"http://arxiv.org/schemas/atom\">Department of Physics</arxiv:affiliation>\n",
      "    </author>\n",
      "    <author>\n",
      "      <name>Stephen Fahy</name>\n",
      "      <arxiv:affiliation xmlns:arxiv=\"http://arxiv.org/schemas/atom\">Department of Physics</arxiv:affiliation>\n",
      "    </author>\n",
      "    <author>\n",
      "      <name>J. C. Greer</name>\n",
      "      <arxiv:affiliation xmlns:arxiv=\"http://arxiv.org/schemas/atom\">NMRC, University College, Cork, Ireland</arxiv:affiliation>\n",
      "    </author>\n",
      "    <arxiv:doi xmlns:arxiv=\"http://arxiv.org/schemas/atom\">10.1063/1.1383585</arxiv:doi>\n",
      "    <link title=\"doi\" href=\"http://dx.doi.org/10.1063/1.1383585\" rel=\"related\"/>\n",
      "    <arxiv:comment xmlns:arxiv=\"http://arxiv.org/schemas/atom\">11 pages, 6 figures, 3 tables, LaTeX209, submitted to The Journal of\n",
      "  Chemical Physics</arxiv:comment>\n",
      "    <arxiv:journal_ref xmlns:arxiv=\"http://arxiv.org/schemas/atom\">J. Chem. Phys. 115, 1626 (2001)</arxiv:journal_ref>\n",
      "    <link href=\"http://arxiv.org/abs/cond-mat/0102536v1\" rel=\"alternate\" type=\"text/html\"/>\n",
      "    <link title=\"pdf\" href=\"http://arxiv.org/pdf/cond-mat/0102536v1\" rel=\"related\" type=\"application/pdf\"/>\n",
      "    <arxiv:primary_category xmlns:arxiv=\"http://arxiv.org/schemas/atom\" term=\"cond-mat.str-el\" scheme=\"http://arxiv.org/schemas/atom\"/>\n",
      "    <category term=\"cond-mat.str-el\" scheme=\"http://arxiv.org/schemas/atom\"/>\n",
      "  </entry>\n",
      "</feed>\n",
      "\n"
     ]
    }
   ],
   "source": [
    "import urllib, urllib.request\n",
    "url = 'http://export.arxiv.org/api/query?search_query=all:electron&start=0&max_results=1'\n",
    "data = urllib.request.urlopen(url)\n",
    "print(data.read().decode('utf-8'))\n",
    "\n"
   ]
  },
  {
   "cell_type": "code",
   "execution_count": null,
   "metadata": {},
   "outputs": [
    {
     "name": "stdout",
     "output_type": "stream",
     "text": [
      "Can LLMs Compute with Reasons? :\n",
      " Large language models (LLMs) often struggle with complex mathematical tasks,\n",
      "prone to \"hallucinating\" incorrect answers due to their reliance on statistical\n",
      "patterns. This limitation is further amplified in average Small LangSLMs with\n",
      "limited context and training data. To address this challenge, we propose an\n",
      "\"Inductive Learning\" approach utilizing a distributed network of SLMs. This\n",
      "network leverages error-based learning and hint incorporation to refine the\n",
      "reasoning capabilities of SLMs. Our goal is to provide a framework that\n",
      "empowers SLMs to approach the level of logic-based applications achieved by\n",
      "high-parameter models, potentially benefiting any language model. Ultimately,\n",
      "this novel concept paves the way for bridging the logical gap between humans\n",
      "and LLMs across various fields. \n",
      "\n",
      "Token-Budget-Aware LLM Reasoning :\n",
      " Reasoning is critical for large language models (LLMs) to excel in a wide\n",
      "range of tasks. While methods like Chain-of-Thought (CoT) reasoning enhance LLM\n",
      "performance by decomposing problems into intermediate steps, they also incur\n",
      "significant overhead in token usage, leading to increased costs. We find that\n",
      "the reasoning process of current LLMs is unnecessarily lengthy and it can be\n",
      "compressed by including a reasonable token budget in the prompt, but the choice\n",
      "of token budget plays a crucial role in the actual compression effectiveness.\n",
      "We then propose a token-budget-aware LLM reasoning framework, which dynamically\n",
      "estimates token budgets for different problems based on reasoning complexity\n",
      "and uses the estimated token budgets to guide the reasoning process.\n",
      "Experiments show that our method effectively reduces token costs in CoT\n",
      "reasoning with only a slight performance reduction, offering a practical\n",
      "solution to balance efficiency and accuracy in LLM reasoning. Code:\n",
      "https://github.com/GeniusHTX/TALE. \n",
      "\n",
      "Make LLMs better zero-shot reasoners: Structure-orientated autonomous reasoning :\n",
      " Zero-shot reasoning methods with Large Language Models (LLMs) offer\n",
      "significant advantages including great generalization to novel tasks and\n",
      "reduced dependency on human-crafted examples. However, the current zero-shot\n",
      "methods still have limitations in complex tasks, e.g., answering questions that\n",
      "require multi-step reasoning. In this paper, we address this limitation by\n",
      "introducing a novel structure-oriented analysis method to help LLMs better\n",
      "understand the question and guide the problem-solving process of LLMs. We first\n",
      "demonstrate how the existing reasoning strategies, Chain-of-Thought and ReAct,\n",
      "can benefit from our structure-oriented analysis. In addition to empirical\n",
      "investigations, we leverage the probabilistic graphical model to theoretically\n",
      "explain why our structure-oriented analysis can improve the LLM reasoning\n",
      "process. To further improve the reliability in complex question-answering\n",
      "tasks, we propose a multi-agent reasoning system, Structure-oriented Autonomous\n",
      "Reasoning Agents (SARA), that can better enforce the reasoning process\n",
      "following our structure-oriented analysis by refinement techniques and is\n",
      "equipped with external knowledge retrieval capability to reduce factual errors.\n",
      "Extensive experiments verify the effectiveness of the proposed reasoning\n",
      "system. Surprisingly, in some cases, the system even surpasses few-shot\n",
      "methods. Finally, the system not only improves reasoning accuracy in complex\n",
      "tasks but also demonstrates robustness against potential attacks that corrupt\n",
      "the reasoning process. \n",
      "\n"
     ]
    }
   ],
   "source": [
    "import arxiv\n",
    "\n",
    "# Construct the default API client.\n",
    "client = arxiv.Client()\n",
    "\n",
    "# Search for the 10 most recent articles matching the keyword \"quantum.\"\n",
    "search = arxiv.Search(\n",
    "  query = \"ti:reasoning AND ti:LLM\",\n",
    "  max_results = 3,\n",
    "  sort_by = arxiv.SortCriterion.Relevance,\n",
    "  sort_order=arxiv.SortOrder.Descending\n",
    ")\n",
    "\n",
    "results = client.results(search)\n",
    "\n",
    "# `results` is a generator; you can iterate over its elements one by one...\n",
    "for r in results:\n",
    "  print(r.title,\":\\n\",r.summary,\"\\n\")\n",
    "  r.download_pdf(dirpath=\"./newbies\", filename=r.title+\".pdf\")"
   ]
  },
  {
   "cell_type": "code",
   "execution_count": null,
   "metadata": {},
   "outputs": [],
   "source": [
    "# For advanced query syntax documentation, see the arXiv API User Manual:\n",
    "# https://arxiv.org/help/api/user-manual#query_details\n",
    "search = arxiv.Search(query = \"au:del_maestro AND ti:checkerboard\")\n",
    "first_result = next(client.results(search))\n",
    "print(first_result)\n",
    "\n",
    "# Search for the paper with ID \"1605.08386v1\"\n",
    "search_by_id = arxiv.Search(id_list=[\"1605.08386v1\"])\n",
    "# Reuse client to fetch the paper, then print its title.\n",
    "first_result = next(client.results(search))\n",
    "print(first_result.title)"
   ]
  },
  {
   "cell_type": "code",
   "execution_count": 1,
   "metadata": {},
   "outputs": [
    {
     "name": "stdout",
     "output_type": "stream",
     "text": [
      "\n",
      "Some text before [REPLACED PAPER CONTENT] and some text after.\n",
      "Another [REPLACED PAPER CONTENT] and more.\n",
      "\n"
     ]
    }
   ],
   "source": [
    "import re\n",
    "\n",
    "text = \"\"\"\n",
    "Some text before <paper>This is the paper content.</paper> and some text after.\n",
    "Another <paper>Another paper's text.</paper> and more.\n",
    "\"\"\"\n",
    "\n",
    "pattern_replace = r\"<paper>.*?</paper>\"\n",
    "replacement_text = \"[REPLACED PAPER CONTENT]\"\n",
    "replaced_text = re.sub(pattern_replace, replacement_text, text)\n",
    "\n",
    "print(replaced_text)\n",
    "# Output:\n",
    "# Some text before [REPLACED PAPER CONTENT] and some text after.\n",
    "# Another [REPLACED PAPER CONTENT] and more."
   ]
  },
  {
   "cell_type": "code",
   "execution_count": 2,
   "metadata": {},
   "outputs": [
    {
     "name": "stdout",
     "output_type": "stream",
     "text": [
      "\n",
      "Some text before THIS IS THE PAPER CONTENT. and some text after.\n",
      "Another ANOTHER PAPER'S TEXT. and more.\n",
      "\n"
     ]
    }
   ],
   "source": [
    "import re\n",
    "\n",
    "def replace_paper_content(match):\n",
    "    \"\"\"\n",
    "    Function to transform the content inside <paper> tags and use it as replacement.\n",
    "    For this example, we'll just uppercase the content.\n",
    "    \"\"\"\n",
    "    paper_content = match.group(1) # Access the captured group (text inside <paper>)\n",
    "    transformed_content = paper_content.upper() # Example transformation: uppercase\n",
    "    return transformed_content\n",
    "\n",
    "text = \"\"\"\n",
    "Some text before <paper>This is the paper content.</paper> and some text after.\n",
    "Another <paper>Another paper's text.</paper> and more.\n",
    "\"\"\"\n",
    "\n",
    "pattern_replace_transform = r\"<paper>(.*?)</paper>\"\n",
    "replaced_text_transformed = re.sub(pattern_replace_transform, replace_paper_content, text)\n",
    "\n",
    "print(replaced_text_transformed)\n",
    "# Output:\n",
    "# Some text before THIS IS THE PAPER CONTENT. and some text after.\n",
    "# Another ANOTHER PAPER'S TEXT. and more."
   ]
  }
 ],
 "metadata": {
  "kernelspec": {
   "display_name": ".venv",
   "language": "python",
   "name": "python3"
  },
  "language_info": {
   "codemirror_mode": {
    "name": "ipython",
    "version": 3
   },
   "file_extension": ".py",
   "mimetype": "text/x-python",
   "name": "python",
   "nbconvert_exporter": "python",
   "pygments_lexer": "ipython3",
   "version": "3.12.3"
  }
 },
 "nbformat": 4,
 "nbformat_minor": 2
}
